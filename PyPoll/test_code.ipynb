{
 "cells": [
  {
   "cell_type": "code",
   "execution_count": 83,
   "metadata": {},
   "outputs": [],
   "source": [
    "# Assignment03 - pythong part 2\n",
    "\n",
    "# You will be give a set of poll data called election_data.csv. The dataset is composed of three columns: Voter ID, County, and Candidate. Your task is to create a Python script that analyzes the votes and calculates each of the following:\n",
    "\n",
    "\n",
    "# The total number of votes cast\n",
    "# A complete list of candidates who received votes\n",
    "# The percentage of votes each candidate won\n",
    "# The total number of votes each candidate won\n",
    "# The winner of the election based on popular vote.\n",
    "\n",
    "import os\n",
    "import csv\n",
    "import pandas as pd\n",
    "import numpy\n",
    "\n",
    "# path of csv file\n",
    "path = (\"../election_data.csv\")\n",
    "\n",
    "# use panda dataframe to split the csv by commas  and store the dataframe into \"df\"\n",
    "csvreader = pd.read_csv(path)\n",
    "df = pd.DataFrame(csvreader)\n",
    "\n",
    "#define a function\n",
    "def vote_status():\n",
    "    # calculations\n",
    "    total_votes = df['Candidate'].count()\n",
    "    candidate_list = df['Candidate'].unique()\n",
    "    candidate_vt_counts = df['Candidate'].value_counts()\n",
    "    candidate_prcnt = candidate_vt_counts / total_votes * 100\n",
    "    most_votes = df['Candidate'][df['Candidate'].value_counts().max()]\n",
    "    \n",
    "    #output variable needed here since need to print results in terminal and file. \n",
    "    output = (\"Election Results\\n\"\n",
    "              '-------------------------\\n'\n",
    "              f\"Total Votes: {total_votes}\\n\"\n",
    "              '-------------------------\\n'\n",
    "             )\n",
    "    \n",
    "    # use a for loop to get the correct formafor each candidate.\n",
    "    for candidate in candidate_list:        \n",
    "        output = output + f\"{candidate}: {candidate_prcnt[candidate]:.3f}% ({candidate_vt_counts[candidate]})\\n\"\n",
    "    \n",
    "    \n",
    "    output = output + ('-------------------------\\n'\n",
    "                       f\"Winner: {most_votes}\\n\"\n",
    "                       '-------------------------'\n",
    "                      )\n",
    "    # return is used instead of 'pass' because of the for loop that cannot simply be written into a text file.\n",
    "    return output\n",
    "\n",
    "results = vote_status()\n",
    "\n",
    "with open(\"Candidates_Reults.txt\",'w') as output_file:\n",
    "    output_file.write(results)\n",
    "\n",
    "print(results)\n"
   ]
  },
  {
   "cell_type": "code",
   "execution_count": null,
   "metadata": {},
   "outputs": [],
   "source": []
  }
 ],
 "metadata": {
  "kernelspec": {
   "display_name": "Python 3",
   "language": "python",
   "name": "python3"
  },
  "language_info": {
   "codemirror_mode": {
    "name": "ipython",
    "version": 3
   },
   "file_extension": ".py",
   "mimetype": "text/x-python",
   "name": "python",
   "nbconvert_exporter": "python",
   "pygments_lexer": "ipython3",
   "version": "3.6.4"
  }
 },
 "nbformat": 4,
 "nbformat_minor": 2
}
