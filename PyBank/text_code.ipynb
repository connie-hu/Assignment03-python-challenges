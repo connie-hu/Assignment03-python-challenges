{
 "cells": [
  {
   "cell_type": "code",
   "execution_count": 1,
   "metadata": {},
   "outputs": [
    {
     "name": "stdout",
     "output_type": "stream",
     "text": [
      "Financial Analysis\n",
      "---------------------------------------------------------\n",
      "Total Months: 86\n",
      "Total: $38382578\n",
      "Mean Change: $-2315.12\n",
      "Greatest Increase in Profits: Feb-2012 $1926159\n",
      "Greatest Decrease in Profits: Sep-2013 $-2196167\n"
     ]
    }
   ],
   "source": [
    "# In this challenge, you are tasked with creating a Python script for analyzing the financial records of your company. You will give a set of financial data called budget_data.csv. The dataset is composed of two columns: Date and Profit/Losses. (Thankfully, your company has rather lax standards for accounting so the records are simple.)\n",
    "\n",
    "# Your task is to create a Python script that analyzes the records to calculate each of the following:\n",
    "\n",
    "# The total number of months included in the dataset\n",
    "# The net total amount of \"Profit/Losses\" over the entire period\n",
    "# The average of the changes in \"Profit/Losses\" over the entire period\n",
    "# The greatest increase in profits (date and amount) over the entire period\n",
    "# The greatest decrease in losses (date and amount) over the entire period\n",
    "\n",
    "\n",
    "# import the libraries\n",
    "import os\n",
    "import pandas as pd\n",
    "import numpy as np\n",
    "\n",
    "\n",
    "# path of the file\n",
    "path = os.path.join(\"../budget-data.csv\")\n",
    "\n",
    "# use panda dataframe to split the csv by commas  and store the dataframe into \"df\"\n",
    "csvreader = pd.read_csv(path, delimiter = ',')\n",
    "df = pd.DataFrame(csvreader)\n",
    "\n",
    "# define a function to store all calcs\n",
    "def calcs():\n",
    "    \n",
    "    # since df variable is defined as a dataframe(made of a bunch of series),\n",
    "    # define the dates and profits_losses as separate series (list) before doing any calcs.\n",
    "    dates = df['Date']\n",
    "    profits_losses = df['Profit/Losses']\n",
    "    \n",
    "    # The total number of months included in the dataset\n",
    "    total_mnths = dates.nunique()\n",
    "    \n",
    "    # The net total amount of \"Profit/Losses\" over the entire period\n",
    "    total_profit_losses = profits_losses.sum()\n",
    "    \n",
    "    # diff needed to calc the \"rolling\" difference of profit/losses\n",
    "    diff = profits_losses.diff(periods = 1)\n",
    "    \n",
    "    # The average of the changes in \"Profit/Losses\" over the entire period\n",
    "    rollavg_profit_losses = np.around(diff.mean(), decimals = 2)\n",
    "    \n",
    "    # The greatest increase in profits (date and amount) over the entire period\n",
    "    max_profit_losses = int(diff.max())\n",
    "    max_mnth = dates[profits_losses.idxmax()]\n",
    "    \n",
    "    # The greatest decrease in losses (date and amount) over the entire period\n",
    "    min_profit_losses = int(diff.min())\n",
    "    min_mnth = dates[profits_losses.idxmin()]\n",
    "    \n",
    "# write outputs to a txt file and print outputs\n",
    "\n",
    "\n",
    "    with open(\"Financial_Analysis.txt\",'w') as output_file:\n",
    "        #put the output into a string so the text can be used for writing to a text file and to be able to print.\n",
    "        output = str(\"Financial Analysis\"\n",
    "                          '\\n' \"---------------------------------------------------------\"\n",
    "                          '\\n' f\"Total Months: {total_mnths}\"\n",
    "                          '\\n' f\"Total: ${total_profit_losses}\"\n",
    "                          '\\n' f\"Mean Change: ${rollavg_profit_losses}\"\n",
    "                          '\\n' f\"Greatest Increase in Profits: {max_mnth} ${max_profit_losses}\"\n",
    "                          '\\n' f\"Greatest Decrease in Profits: {min_mnth} ${min_profit_losses}\"\n",
    "                         )\n",
    "        \n",
    "        #write the output into the Financial_Analysis.txt file.\n",
    "        output_file.write(output)\n",
    "        \n",
    "        print(output)\n",
    "    \n",
    "    pass\n",
    "\n",
    "calcs()\n"
   ]
  },
  {
   "cell_type": "code",
   "execution_count": null,
   "metadata": {},
   "outputs": [],
   "source": [
    "\n"
   ]
  },
  {
   "cell_type": "code",
   "execution_count": null,
   "metadata": {},
   "outputs": [],
   "source": []
  },
  {
   "cell_type": "code",
   "execution_count": null,
   "metadata": {},
   "outputs": [],
   "source": []
  }
 ],
 "metadata": {
  "kernelspec": {
   "display_name": "Python 3",
   "language": "python",
   "name": "python3"
  },
  "language_info": {
   "codemirror_mode": {
    "name": "ipython",
    "version": 3
   },
   "file_extension": ".py",
   "mimetype": "text/x-python",
   "name": "python",
   "nbconvert_exporter": "python",
   "pygments_lexer": "ipython3",
   "version": "3.6.4"
  }
 },
 "nbformat": 4,
 "nbformat_minor": 2
}
